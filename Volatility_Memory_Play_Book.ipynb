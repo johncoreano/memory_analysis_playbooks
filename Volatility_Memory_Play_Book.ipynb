{
 "cells": [
  {
   "cell_type": "markdown",
   "id": "ba3be995-486d-41cd-a0cf-763441a5c247",
   "metadata": {},
   "source": [
    "### Memory Analysis Volatility Playbook  \n",
    "\n",
    "![Static Badge](https://img.shields.io/badge/john_coreano-blue)\n",
    "![Static Badge](https://img.shields.io/badge/Memory_Analysis_Playbook-yellow)\n",
    "![Static Badge](https://img.shields.io/badge/CTF-red)"
   ]
  },
  {
   "cell_type": "markdown",
   "id": "c37111db-774e-4cfa-b046-938acc8c003c",
   "metadata": {},
   "source": [
    "This playbook should give you a good start on analyzing memory. It is handy when working on CTF's and for learning and nailing down a good analytical process of your own.  \n",
    "\n",
    "This playbook assumes that:\n",
    "- you have a working knowledge on memory capture\n",
    "- you have the ability to modify commands to suit your needs\n",
    "- you are comfortable navigating via a Terminal or Command Line\n",
    "- that you already have Volatility2 installed    \n",
    "\n",
    "This is not meant to be all inclusive but rather a guide to get you going and to provide a structure to memory analysis. If you have any suggestions to make this user fiendly, let me know!"
   ]
  },
  {
   "cell_type": "markdown",
   "id": "ee73859d-fe3d-44a5-a048-4adc87a3cc2e",
   "metadata": {},
   "source": [
    "#### Analysis Techniques\n",
    "\n",
    "- Expect large quantities of data and a lot of noise. \n",
    "- Memory is heavily fragmented.\n",
    "- Don’t jump to conclusions!\n",
    "- Create a timeline.\n",
    "- Verify integrity of the image by verifying the hash.\n",
    "- Try different options.\n",
    "- Use the *help* command on plugins to see syntax and what they can do."
   ]
  },
  {
   "cell_type": "markdown",
   "id": "d7c3e0e0-cb46-48e7-b1ee-b8a6771a267d",
   "metadata": {},
   "source": [
    "#### Volatility 2"
   ]
  },
  {
   "cell_type": "markdown",
   "id": "16bfa22f-d9bd-45f1-a787-f7a7d5306681",
   "metadata": {},
   "source": [
    "Syntax: `volatility -f <FILENAME> --profile=PROFILE <PLUGIN>`  \n",
    "** *--profile may not always be needed, especially if working in lab environments*"
   ]
  },
  {
   "cell_type": "markdown",
   "id": "8640b04f-ca1c-4837-b49c-9b1f0929e101",
   "metadata": {},
   "source": [
    "##### 1) <u>Verify integrity of the image by verifying its hash.</u>\n",
    "##### `md5sum FILENAME`\n",
    "##### `sha256sum FILENAME`"
   ]
  },
  {
   "cell_type": "markdown",
   "id": "e7cd75d8-b65b-4b3b-90ca-3d0481d648bf",
   "metadata": {},
   "source": [
    "##### 2) <u>Identify information about the image.</u>\n",
    "##### Plugins to use: imageinfo, ident, kdbgscan, datetime  \n",
    "##### Example: `volatility -f IMAGE imageinfo`"
   ]
  },
  {
   "cell_type": "markdown",
   "id": "628165d1-afa6-45f2-a09e-e97793b79a4c",
   "metadata": {},
   "source": [
    "##### ** At this point begin creating your timeline with the image creation date and time. **"
   ]
  },
  {
   "cell_type": "markdown",
   "id": "849c80c4-b18d-4ebb-9394-c3b757f0b126",
   "metadata": {},
   "source": [
    "##### 3) <u>Identify the processes running at time of memory capture.</u>  \n",
    "##### Plugins to use: pslist, pstree, pstree -v\n",
    "##### Example: `volatility -f IMAGE pstree -v` \n",
    "##### Look for suspicious processes. The more familiar you are with processes that should be running, the easier it will be to spot anything out of the ordinary. Place any suspicious processes into your timeline. Note the Process Name, Process ID (PID), the Parent Process ID (PPID), and the time. "
   ]
  },
  {
   "cell_type": "markdown",
   "id": "83a9b64d-d9f0-4a1e-a15f-bf6c6f08fd15",
   "metadata": {},
   "source": [
    "##### 4) <u>List the DLL's used by processes.</u>  \n",
    "##### Plugins to use: dlllist -p PID\n",
    "##### Example: `volatility -f IMAGE dlllist -p PID`\n",
    "##### This will list all the Dynamically Linked Libraries (DLL) that a process used. Look for anything that looks suspicious. DLL's should normally reside in the C:\\WINDOWS\\system32\\ folder."
   ]
  },
  {
   "cell_type": "markdown",
   "id": "436a17b9-fb24-45f7-9e24-49db513f1883",
   "metadata": {},
   "source": [
    "##### 5) <u>List any files accessed by a process.</u>\n",
    "##### Plugins to use: files -p PID\n",
    "##### Example: `volatility -f IMAGE files -p PID`"
   ]
  },
  {
   "cell_type": "markdown",
   "id": "7082b4d1-194f-4dc9-8f8f-c332f2dd4257",
   "metadata": {},
   "source": [
    "##### 6) <u>Show which user Security Identifier's (SIDS) launched a process.</u>  \n",
    "##### Plugins to use: getsids\n",
    "##### Example: `volatility -f IMAGE getsids`"
   ]
  },
  {
   "cell_type": "markdown",
   "id": "bf542b39-9d49-4f6f-99d3-58c0c350e67f",
   "metadata": {},
   "source": [
    "##### 7) <u>List network connections and any sockets created by processes at the time the image was taken.</u>  \n",
    "##### Plugins to use: sockets, sockscan, sockscan2, connections, connscan, connscan2\n",
    "##### Example: `volatility -f IMAGE sockscan`\n",
    "##### Try them all out and see what works for you and what information you can get from them. Put anything you have a timestamp for in your timeline."
   ]
  },
  {
   "cell_type": "markdown",
   "id": "215f04b5-7a79-4c9d-ba7c-87df408bf45b",
   "metadata": {},
   "source": [
    "##### 8) <u>Analyze command line arguments.</u>\n",
    "##### Plugins to use: cmdscan, consoles, cmdline\n",
    "##### Example: `volatility -f IMAGE consoles` or `volatility -f IMAGE consoles -p PID`"
   ]
  },
  {
   "cell_type": "markdown",
   "id": "c86b56b9-1c39-49bd-b105-ccbe8512b939",
   "metadata": {},
   "source": [
    "#### Advanced options"
   ]
  },
  {
   "cell_type": "markdown",
   "id": "4e0f9c23-0302-4f23-93ba-21c7f1b652b5",
   "metadata": {},
   "source": [
    "##### 9) <u>Analyze the registry.</u>\n",
    "##### Create a timeline of the registry.\n",
    "##### - Identify the memory offset of the registry hive: `volatility -f IMAGE hivescan`\n",
    "##### Note the hex value of the offset from the first line for use in the next command.\n",
    "##### - Dump the registry to a CSV file. `volatility hivedump -f IMAGE -o HEXOFFSET -v`\n",
    "##### Now we will clean up the CSV file and create a timeline document.\n",
    "##### - `sort -n *.csv > registry_timeline.csv`\n",
    "##### List registry keys opened by a PID.  \n",
    "##### - `volatility -f IMAGE regobjkeys -p PID`\n",
    "##### List the registry hives using the HEXOFFSET.\n",
    "##### - `volatility hivelist -f IMAGE -o HEXOFFSET` \n",
    "##### Print out the value of a specific registry key using the ADDRESS obtained from the hive list.\n",
    "##### - `volatility printkey -f IMAGE -o ADDRESS 'HIVENAME'` "
   ]
  },
  {
   "cell_type": "markdown",
   "id": "ac18122c-0034-4b7d-9556-69e3e6cd66a8",
   "metadata": {},
   "source": [
    "##### 10) <u>Check for passwords or any secret information.</u>  \n",
    "##### Plugins to use: hashdump, lsadump, cachedump, cryptoscan, suspicious"
   ]
  },
  {
   "cell_type": "markdown",
   "id": "0b43dd26-c22b-40cb-a5ac-b0c1d45b117b",
   "metadata": {},
   "source": [
    "##### 11) <u>Look for signs of malware.</u>\n",
    "##### Plugins to use: malfind \n",
    "##### Example: `volatility -f IMAGE malfind` or `volatility -f IMAGE malfind -p PID`"
   ]
  },
  {
   "cell_type": "markdown",
   "id": "07e34d47-36b7-4dd9-946f-855310a5c8ae",
   "metadata": {},
   "source": [
    "#### Support  "
   ]
  },
  {
   "cell_type": "code",
   "execution_count": null,
   "id": "d5bd8333-461e-4428-a986-27a762963d94",
   "metadata": {},
   "outputs": [],
   "source": []
  }
 ],
 "metadata": {
  "kernelspec": {
   "display_name": "Python 3 (ipykernel)",
   "language": "python",
   "name": "python3"
  },
  "language_info": {
   "codemirror_mode": {
    "name": "ipython",
    "version": 3
   },
   "file_extension": ".py",
   "mimetype": "text/x-python",
   "name": "python",
   "nbconvert_exporter": "python",
   "pygments_lexer": "ipython3",
   "version": "3.10.1"
  }
 },
 "nbformat": 4,
 "nbformat_minor": 5
}
